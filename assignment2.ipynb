{
  "cells": [
    {
      "cell_type": "markdown",
      "metadata": {
        "id": "view-in-github",
        "colab_type": "text"
      },
      "source": [
        "<a href=\"https://colab.research.google.com/github/Satish-2004/Gen-ai-class/blob/main/assignment2.ipynb\" target=\"_parent\"><img src=\"https://colab.research.google.com/assets/colab-badge.svg\" alt=\"Open In Colab\"/></a>"
      ]
    },
    {
      "cell_type": "code",
      "execution_count": null,
      "metadata": {
        "colab": {
          "base_uri": "https://localhost:8080/"
        },
        "id": "lrxXTvyW5Upg",
        "outputId": "51957941-9b6c-4853-9a39-a539d4e5f2b8"
      },
      "outputs": [
        {
          "output_type": "stream",
          "name": "stdout",
          "text": [
            "Requirement already satisfied: transformers in /usr/local/lib/python3.11/dist-packages (4.53.0)\n",
            "Requirement already satisfied: filelock in /usr/local/lib/python3.11/dist-packages (from transformers) (3.18.0)\n",
            "Requirement already satisfied: huggingface-hub<1.0,>=0.30.0 in /usr/local/lib/python3.11/dist-packages (from transformers) (0.33.1)\n",
            "Requirement already satisfied: numpy>=1.17 in /usr/local/lib/python3.11/dist-packages (from transformers) (2.0.2)\n",
            "Requirement already satisfied: packaging>=20.0 in /usr/local/lib/python3.11/dist-packages (from transformers) (24.2)\n",
            "Requirement already satisfied: pyyaml>=5.1 in /usr/local/lib/python3.11/dist-packages (from transformers) (6.0.2)\n",
            "Requirement already satisfied: regex!=2019.12.17 in /usr/local/lib/python3.11/dist-packages (from transformers) (2024.11.6)\n",
            "Requirement already satisfied: requests in /usr/local/lib/python3.11/dist-packages (from transformers) (2.32.3)\n",
            "Requirement already satisfied: tokenizers<0.22,>=0.21 in /usr/local/lib/python3.11/dist-packages (from transformers) (0.21.2)\n",
            "Requirement already satisfied: safetensors>=0.4.3 in /usr/local/lib/python3.11/dist-packages (from transformers) (0.5.3)\n",
            "Requirement already satisfied: tqdm>=4.27 in /usr/local/lib/python3.11/dist-packages (from transformers) (4.67.1)\n",
            "Requirement already satisfied: fsspec>=2023.5.0 in /usr/local/lib/python3.11/dist-packages (from huggingface-hub<1.0,>=0.30.0->transformers) (2025.3.2)\n",
            "Requirement already satisfied: typing-extensions>=3.7.4.3 in /usr/local/lib/python3.11/dist-packages (from huggingface-hub<1.0,>=0.30.0->transformers) (4.14.0)\n",
            "Requirement already satisfied: hf-xet<2.0.0,>=1.1.2 in /usr/local/lib/python3.11/dist-packages (from huggingface-hub<1.0,>=0.30.0->transformers) (1.1.5)\n",
            "Requirement already satisfied: charset-normalizer<4,>=2 in /usr/local/lib/python3.11/dist-packages (from requests->transformers) (3.4.2)\n",
            "Requirement already satisfied: idna<4,>=2.5 in /usr/local/lib/python3.11/dist-packages (from requests->transformers) (3.10)\n",
            "Requirement already satisfied: urllib3<3,>=1.21.1 in /usr/local/lib/python3.11/dist-packages (from requests->transformers) (2.4.0)\n",
            "Requirement already satisfied: certifi>=2017.4.17 in /usr/local/lib/python3.11/dist-packages (from requests->transformers) (2025.6.15)\n"
          ]
        }
      ],
      "source": [
        "!pip install transformers"
      ]
    },
    {
      "cell_type": "code",
      "execution_count": null,
      "metadata": {
        "id": "eisP-13z1PJF",
        "colab": {
          "base_uri": "https://localhost:8080/"
        },
        "outputId": "ae736d70-00f4-4140-afeb-d0cbc6f5ba70"
      },
      "outputs": [
        {
          "output_type": "stream",
          "name": "stderr",
          "text": [
            "Device set to use cpu\n"
          ]
        },
        {
          "output_type": "stream",
          "name": "stdout",
          "text": [
            "@ Text Generation (Zero-shot):\n",
            "i 'm not a robot i 'm a computer i 'm a computer i 'm a computer i 'm a computer i 'm a computer \n",
            "\n",
            "@ Summarization:\n",
            "Artificial Intelligence (AI) is a technology that is changing the way people work and interact with the world.\n",
            "\n",
            "@ Q&A :\n",
            "tokyo\n",
            "\n",
            "@ Translation (Few-shot):\n",
            "Bonjour anglais: Merci anglais: Merci anglais: C'est-à-dire?\n",
            "\n",
            "@ Chain-of-Thought Prompting:\n",
            "If the train leaves at 3 PM and takes 2 hours to reach its destination, then the train will arrive at 3 + 2 = 6 PM. The answer: 6.\n"
          ]
        }
      ],
      "source": [
        "# Install if not already done\n",
        "# pip install transformers\n",
        "\n",
        "from transformers import  pipeline\n",
        "\n",
        "# Loading  FLAN-T5 base model\n",
        "model_id = \"google/flan-t5-base\"\n",
        "\n",
        "\n",
        "flan = pipeline(\"text2text-generation\", model=model_id,max_new_tokens=50)\n",
        "\n",
        "# Task 1: Text Generation (Zero-shot)\n",
        "prompt_gen = \"Write a short poem on technology.\"\n",
        "print(\"@ Text Generation (Zero-shot):\")\n",
        "print(flan(prompt_gen)[0]['generated_text'])\n",
        "\n",
        "# Task 2: Summarization\n",
        "prompt_sum = \"Summarize: Artificial Intelligence is changing industries like healthcare, finance, and education by automating tasks and providing intelligent insights.\"\n",
        "print(\"\\n@ Summarization:\")\n",
        "print(flan(prompt_sum)[0]['generated_text'])\n",
        "\n",
        "# Task 3: Question Answering\n",
        "prompt_qa = \"Answer the question: What is the capital of Japan?\"\n",
        "print(\"\\n@ Q&A :\")\n",
        "print(flan(prompt_qa)[0]['generated_text'])\n",
        "\n",
        "# Task 4: Translation (Few-shot)\n",
        "few_shot_prompt = \"\"\"Translate English to French:\n",
        "English: Hello\n",
        "French: Bonjour\n",
        "English: Thank you\n",
        "French: Merci\n",
        "English: How are you?\n",
        "French:\"\"\"\n",
        "print(\"\\n@ Translation (Few-shot):\")\n",
        "print(flan(few_shot_prompt)[0]['generated_text'])\n",
        "\n",
        "# Task 5: Chain-of-thought prompting\n",
        "cot_prompt = \"Q: If a train leaves at 3 PM and takes 2 hours to reach its destination, what time will it arrive? Let's think step by step.\"\n",
        "print(\"\\n@ Chain-of-Thought Prompting:\")\n",
        "print(flan(cot_prompt)[0]['generated_text'])\n"
      ]
    }
  ],
  "metadata": {
    "colab": {
      "provenance": [],
      "include_colab_link": true
    },
    "kernelspec": {
      "display_name": "Python 3",
      "name": "python3"
    },
    "language_info": {
      "name": "python"
    }
  },
  "nbformat": 4,
  "nbformat_minor": 0
}